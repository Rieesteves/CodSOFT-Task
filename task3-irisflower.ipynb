{
 "cells": [
  {
   "cell_type": "code",
   "execution_count": 1,
   "id": "70af4207",
   "metadata": {
    "_cell_guid": "b1076dfc-b9ad-4769-8c92-a6c4dae69d19",
    "_uuid": "8f2839f25d086af736a60e9eeb907d3b93b6e0e5",
    "execution": {
     "iopub.execute_input": "2023-12-16T09:33:10.451699Z",
     "iopub.status.busy": "2023-12-16T09:33:10.451078Z",
     "iopub.status.idle": "2023-12-16T09:33:12.660245Z",
     "shell.execute_reply": "2023-12-16T09:33:12.659119Z"
    },
    "papermill": {
     "duration": 2.216717,
     "end_time": "2023-12-16T09:33:12.662624",
     "exception": false,
     "start_time": "2023-12-16T09:33:10.445907",
     "status": "completed"
    },
    "tags": []
   },
   "outputs": [],
   "source": [
    "import pandas as pd\n",
    "import numpy as np\n",
    "import matplotlib.pyplot as plt\n",
    "from sklearn import datasets\n",
    "from sklearn.cluster import KMeans\n",
    "from sklearn.decomposition import PCA"
   ]
  },
  {
   "cell_type": "code",
   "execution_count": 2,
   "id": "512435d5",
   "metadata": {
    "execution": {
     "iopub.execute_input": "2023-12-16T09:33:12.671076Z",
     "iopub.status.busy": "2023-12-16T09:33:12.670564Z",
     "iopub.status.idle": "2023-12-16T09:33:12.700969Z",
     "shell.execute_reply": "2023-12-16T09:33:12.699758Z"
    },
    "papermill": {
     "duration": 0.037596,
     "end_time": "2023-12-16T09:33:12.703756",
     "exception": false,
     "start_time": "2023-12-16T09:33:12.666160",
     "status": "completed"
    },
    "tags": []
   },
   "outputs": [
    {
     "data": {
      "text/plain": [
       "Index(['sepal_length', 'sepal_width', 'petal_length', 'petal_width',\n",
       "       'species'],\n",
       "      dtype='object')"
      ]
     },
     "execution_count": 2,
     "metadata": {},
     "output_type": "execute_result"
    }
   ],
   "source": [
    "iris = pd.read_csv(\"/kaggle/input/iris-flower-dataset/IRIS.csv\")\n",
    "iris.columns"
   ]
  },
  {
   "cell_type": "code",
   "execution_count": 3,
   "id": "52353d95",
   "metadata": {
    "execution": {
     "iopub.execute_input": "2023-12-16T09:33:12.712774Z",
     "iopub.status.busy": "2023-12-16T09:33:12.711799Z",
     "iopub.status.idle": "2023-12-16T09:33:12.728668Z",
     "shell.execute_reply": "2023-12-16T09:33:12.727433Z"
    },
    "papermill": {
     "duration": 0.024246,
     "end_time": "2023-12-16T09:33:12.731288",
     "exception": false,
     "start_time": "2023-12-16T09:33:12.707042",
     "status": "completed"
    },
    "tags": []
   },
   "outputs": [
    {
     "name": "stdout",
     "output_type": "stream",
     "text": [
      "Unique values in the 'species' column:\n",
      "['Iris-setosa' 'Iris-versicolor' 'Iris-virginica']\n"
     ]
    }
   ],
   "source": [
    "column_name = 'species'\n",
    "unique_values = iris[column_name].unique()\n",
    "print(f\"Unique values in the '{column_name}' column:\")\n",
    "print(unique_values)"
   ]
  },
  {
   "cell_type": "code",
   "execution_count": 4,
   "id": "f70b24fb",
   "metadata": {
    "execution": {
     "iopub.execute_input": "2023-12-16T09:33:12.740082Z",
     "iopub.status.busy": "2023-12-16T09:33:12.739698Z",
     "iopub.status.idle": "2023-12-16T09:33:12.754956Z",
     "shell.execute_reply": "2023-12-16T09:33:12.753772Z"
    },
    "papermill": {
     "duration": 0.022584,
     "end_time": "2023-12-16T09:33:12.757498",
     "exception": false,
     "start_time": "2023-12-16T09:33:12.734914",
     "status": "completed"
    },
    "tags": []
   },
   "outputs": [],
   "source": [
    "X = iris[['sepal_length', 'sepal_width', 'petal_length', 'petal_width']]  # Features (measurements)\n",
    "y = iris.species  # Target labels (species)"
   ]
  },
  {
   "cell_type": "code",
   "execution_count": 5,
   "id": "a1c8e3cc",
   "metadata": {
    "execution": {
     "iopub.execute_input": "2023-12-16T09:33:12.766096Z",
     "iopub.status.busy": "2023-12-16T09:33:12.765730Z",
     "iopub.status.idle": "2023-12-16T09:33:12.785218Z",
     "shell.execute_reply": "2023-12-16T09:33:12.784017Z"
    },
    "papermill": {
     "duration": 0.026709,
     "end_time": "2023-12-16T09:33:12.787680",
     "exception": false,
     "start_time": "2023-12-16T09:33:12.760971",
     "status": "completed"
    },
    "tags": []
   },
   "outputs": [],
   "source": [
    "# Using PCA to reduce the dimensions for visualization purposes\n",
    "pca = PCA(n_components=2)\n",
    "X_pca = pca.fit_transform(X)"
   ]
  },
  {
   "cell_type": "code",
   "execution_count": 6,
   "id": "f5a1bdbe",
   "metadata": {
    "execution": {
     "iopub.execute_input": "2023-12-16T09:33:12.796132Z",
     "iopub.status.busy": "2023-12-16T09:33:12.795706Z",
     "iopub.status.idle": "2023-12-16T09:33:12.867830Z",
     "shell.execute_reply": "2023-12-16T09:33:12.866907Z"
    },
    "papermill": {
     "duration": 0.079574,
     "end_time": "2023-12-16T09:33:12.870633",
     "exception": false,
     "start_time": "2023-12-16T09:33:12.791059",
     "status": "completed"
    },
    "tags": []
   },
   "outputs": [
    {
     "name": "stderr",
     "output_type": "stream",
     "text": [
      "/opt/conda/lib/python3.10/site-packages/sklearn/cluster/_kmeans.py:870: FutureWarning: The default value of `n_init` will change from 10 to 'auto' in 1.4. Set the value of `n_init` explicitly to suppress the warning\n",
      "  warnings.warn(\n"
     ]
    },
    {
     "data": {
      "text/html": [
       "<style>#sk-container-id-1 {color: black;background-color: white;}#sk-container-id-1 pre{padding: 0;}#sk-container-id-1 div.sk-toggleable {background-color: white;}#sk-container-id-1 label.sk-toggleable__label {cursor: pointer;display: block;width: 100%;margin-bottom: 0;padding: 0.3em;box-sizing: border-box;text-align: center;}#sk-container-id-1 label.sk-toggleable__label-arrow:before {content: \"▸\";float: left;margin-right: 0.25em;color: #696969;}#sk-container-id-1 label.sk-toggleable__label-arrow:hover:before {color: black;}#sk-container-id-1 div.sk-estimator:hover label.sk-toggleable__label-arrow:before {color: black;}#sk-container-id-1 div.sk-toggleable__content {max-height: 0;max-width: 0;overflow: hidden;text-align: left;background-color: #f0f8ff;}#sk-container-id-1 div.sk-toggleable__content pre {margin: 0.2em;color: black;border-radius: 0.25em;background-color: #f0f8ff;}#sk-container-id-1 input.sk-toggleable__control:checked~div.sk-toggleable__content {max-height: 200px;max-width: 100%;overflow: auto;}#sk-container-id-1 input.sk-toggleable__control:checked~label.sk-toggleable__label-arrow:before {content: \"▾\";}#sk-container-id-1 div.sk-estimator input.sk-toggleable__control:checked~label.sk-toggleable__label {background-color: #d4ebff;}#sk-container-id-1 div.sk-label input.sk-toggleable__control:checked~label.sk-toggleable__label {background-color: #d4ebff;}#sk-container-id-1 input.sk-hidden--visually {border: 0;clip: rect(1px 1px 1px 1px);clip: rect(1px, 1px, 1px, 1px);height: 1px;margin: -1px;overflow: hidden;padding: 0;position: absolute;width: 1px;}#sk-container-id-1 div.sk-estimator {font-family: monospace;background-color: #f0f8ff;border: 1px dotted black;border-radius: 0.25em;box-sizing: border-box;margin-bottom: 0.5em;}#sk-container-id-1 div.sk-estimator:hover {background-color: #d4ebff;}#sk-container-id-1 div.sk-parallel-item::after {content: \"\";width: 100%;border-bottom: 1px solid gray;flex-grow: 1;}#sk-container-id-1 div.sk-label:hover label.sk-toggleable__label {background-color: #d4ebff;}#sk-container-id-1 div.sk-serial::before {content: \"\";position: absolute;border-left: 1px solid gray;box-sizing: border-box;top: 0;bottom: 0;left: 50%;z-index: 0;}#sk-container-id-1 div.sk-serial {display: flex;flex-direction: column;align-items: center;background-color: white;padding-right: 0.2em;padding-left: 0.2em;position: relative;}#sk-container-id-1 div.sk-item {position: relative;z-index: 1;}#sk-container-id-1 div.sk-parallel {display: flex;align-items: stretch;justify-content: center;background-color: white;position: relative;}#sk-container-id-1 div.sk-item::before, #sk-container-id-1 div.sk-parallel-item::before {content: \"\";position: absolute;border-left: 1px solid gray;box-sizing: border-box;top: 0;bottom: 0;left: 50%;z-index: -1;}#sk-container-id-1 div.sk-parallel-item {display: flex;flex-direction: column;z-index: 1;position: relative;background-color: white;}#sk-container-id-1 div.sk-parallel-item:first-child::after {align-self: flex-end;width: 50%;}#sk-container-id-1 div.sk-parallel-item:last-child::after {align-self: flex-start;width: 50%;}#sk-container-id-1 div.sk-parallel-item:only-child::after {width: 0;}#sk-container-id-1 div.sk-dashed-wrapped {border: 1px dashed gray;margin: 0 0.4em 0.5em 0.4em;box-sizing: border-box;padding-bottom: 0.4em;background-color: white;}#sk-container-id-1 div.sk-label label {font-family: monospace;font-weight: bold;display: inline-block;line-height: 1.2em;}#sk-container-id-1 div.sk-label-container {text-align: center;}#sk-container-id-1 div.sk-container {/* jupyter's `normalize.less` sets `[hidden] { display: none; }` but bootstrap.min.css set `[hidden] { display: none !important; }` so we also need the `!important` here to be able to override the default hidden behavior on the sphinx rendered scikit-learn.org. See: https://github.com/scikit-learn/scikit-learn/issues/21755 */display: inline-block !important;position: relative;}#sk-container-id-1 div.sk-text-repr-fallback {display: none;}</style><div id=\"sk-container-id-1\" class=\"sk-top-container\"><div class=\"sk-text-repr-fallback\"><pre>KMeans(n_clusters=3, random_state=42)</pre><b>In a Jupyter environment, please rerun this cell to show the HTML representation or trust the notebook. <br />On GitHub, the HTML representation is unable to render, please try loading this page with nbviewer.org.</b></div><div class=\"sk-container\" hidden><div class=\"sk-item\"><div class=\"sk-estimator sk-toggleable\"><input class=\"sk-toggleable__control sk-hidden--visually\" id=\"sk-estimator-id-1\" type=\"checkbox\" checked><label for=\"sk-estimator-id-1\" class=\"sk-toggleable__label sk-toggleable__label-arrow\">KMeans</label><div class=\"sk-toggleable__content\"><pre>KMeans(n_clusters=3, random_state=42)</pre></div></div></div></div></div>"
      ],
      "text/plain": [
       "KMeans(n_clusters=3, random_state=42)"
      ]
     },
     "execution_count": 6,
     "metadata": {},
     "output_type": "execute_result"
    }
   ],
   "source": [
    "# Train a k-means clustering model\n",
    "kmeans = KMeans(n_clusters=3, random_state=42)\n",
    "kmeans.fit(X)"
   ]
  },
  {
   "cell_type": "code",
   "execution_count": 7,
   "id": "67b674a3",
   "metadata": {
    "execution": {
     "iopub.execute_input": "2023-12-16T09:33:12.880239Z",
     "iopub.status.busy": "2023-12-16T09:33:12.879442Z",
     "iopub.status.idle": "2023-12-16T09:33:12.885266Z",
     "shell.execute_reply": "2023-12-16T09:33:12.884438Z"
    },
    "papermill": {
     "duration": 0.013372,
     "end_time": "2023-12-16T09:33:12.887570",
     "exception": false,
     "start_time": "2023-12-16T09:33:12.874198",
     "status": "completed"
    },
    "tags": []
   },
   "outputs": [
    {
     "name": "stdout",
     "output_type": "stream",
     "text": [
      "[1 1 1 1 1 1 1 1 1 1 1 1 1 1 1 1 1 1 1 1 1 1 1 1 1 1 1 1 1 1 1 1 1 1 1 1 1\n",
      " 1 1 1 1 1 1 1 1 1 1 1 1 1 0 0 2 0 0 0 0 0 0 0 0 0 0 0 0 0 0 0 0 0 0 0 0 0\n",
      " 0 0 0 2 0 0 0 0 0 0 0 0 0 0 0 0 0 0 0 0 0 0 0 0 0 0 2 0 2 2 2 2 0 2 2 2 2\n",
      " 2 2 0 0 2 2 2 2 0 2 0 2 0 2 2 0 0 2 2 2 2 2 0 2 2 2 2 0 2 2 2 0 2 2 2 0 2\n",
      " 2 0]\n"
     ]
    }
   ],
   "source": [
    "# Get the cluster labels\n",
    "labels = kmeans.labels_\n",
    "print(labels)"
   ]
  },
  {
   "cell_type": "code",
   "execution_count": 8,
   "id": "c66dde6d",
   "metadata": {
    "execution": {
     "iopub.execute_input": "2023-12-16T09:33:12.897264Z",
     "iopub.status.busy": "2023-12-16T09:33:12.896578Z",
     "iopub.status.idle": "2023-12-16T09:33:13.360392Z",
     "shell.execute_reply": "2023-12-16T09:33:13.359529Z"
    },
    "papermill": {
     "duration": 0.471026,
     "end_time": "2023-12-16T09:33:13.362516",
     "exception": false,
     "start_time": "2023-12-16T09:33:12.891490",
     "status": "completed"
    },
    "tags": []
   },
   "outputs": [
    {
     "data": {
      "text/plain": [
       "<matplotlib.legend.Legend at 0x7fb83166f970>"
      ]
     },
     "execution_count": 8,
     "metadata": {},
     "output_type": "execute_result"
    },
    {
     "data": {
      "image/png": "[encoded data removed]",
      "text/plain": [
       "<Figure size 500x500 with 1 Axes>"
      ]
     },
     "metadata": {},
     "output_type": "display_data"
    }
   ],
   "source": [
    "# Plot the clusters in 2D\n",
    "plt.figure(figsize=(5, 5))\n",
    "\n",
    "# Plot each cluster\n",
    "for i in range(3):\n",
    "    plt.scatter(X_pca[labels == i, 0], X_pca[labels == i, 1], label=f'Cluster {i + 1}')\n",
    "\n",
    "# Plot the centroids\n",
    "centroids = kmeans.cluster_centers_\n",
    "plt.scatter(centroids[:, 0], centroids[:, 1], marker='X', s=200, color='black', label='Centroids')\n",
    "\n",
    "# Set plot labels and title\n",
    "plt.xlabel('Principal Component 1')\n",
    "plt.ylabel('Principal Component 2')\n",
    "plt.title('K-Means Clustering of Iris Dataset')\n",
    "plt.legend()\n"
   ]
  },
  {
   "cell_type": "code",
   "execution_count": null,
   "id": "07be996f",
   "metadata": {
    "papermill": {
     "duration": 0.004407,
     "end_time": "2023-12-16T09:33:13.371374",
     "exception": false,
     "start_time": "2023-12-16T09:33:13.366967",
     "status": "completed"
    },
    "tags": []
   },
   "outputs": [],
   "source": []
  }
 ],
 "metadata": {
  "kaggle": {
   "accelerator": "none",
   "dataSources": [
    {
     "datasetId": 17860,
     "sourceId": 23404,
     "sourceType": "datasetVersion"
    }
   ],
   "dockerImageVersionId": 30626,
   "isGpuEnabled": false,
   "isInternetEnabled": true,
   "language": "python",
   "sourceType": "notebook"
  },
  "kernelspec": {
   "display_name": "Python 3",
   "language": "python",
   "name": "python3"
  },
  "language_info": {
   "codemirror_mode": {
    "name": "ipython",
    "version": 3
   },
   "file_extension": ".py",
   "mimetype": "text/x-python",
   "name": "python",
   "nbconvert_exporter": "python",
   "pygments_lexer": "ipython3",
   "version": "3.10.12"
  },
  "papermill": {
   "default_parameters": {},
   "duration": 6.723598,
   "end_time": "2023-12-16T09:33:13.996472",
   "environment_variables": {},
   "exception": null,
   "input_path": "__notebook__.ipynb",
   "output_path": "__notebook__.ipynb",
   "parameters": {},
   "start_time": "2023-12-16T09:33:07.272874",
   "version": "2.4.0"
  }
 },
 "nbformat": 4,
 "nbformat_minor": 5
}
